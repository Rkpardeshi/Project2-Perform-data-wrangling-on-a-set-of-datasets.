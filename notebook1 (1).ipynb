{
 "cells": [
  {
   "cell_type": "code",
   "execution_count": 2,
   "id": "990da373-957a-4d77-8fdd-20d8b85e0b9c",
   "metadata": {},
   "outputs": [],
   "source": [
    "import pandas as pd\n",
    "import numpy as np\n"
   ]
  },
  {
   "cell_type": "code",
   "execution_count": 4,
   "id": "5b80a1ba-2faa-4ccb-80b0-717fa83cced8",
   "metadata": {},
   "outputs": [],
   "source": [
    "dataset1 = pd.read_csv(\"D:\\\\digicrome_datascienceAndAI\\\\Second_Project\\\\dataset_1 - dataset_1.csv\")"
   ]
  },
  {
   "cell_type": "code",
   "execution_count": 6,
   "id": "2a62fea7-26cd-48ef-957e-e056fab19c07",
   "metadata": {},
   "outputs": [
    {
     "name": "stdout",
     "output_type": "stream",
     "text": [
      "     instant      dteday  season  yr  mnth  hr  holiday  weekday  weathersit  \\\n",
      "0          1  01-01-2011       1   0     1   0    False        6           1   \n",
      "1          2  01-01-2011       1   0     1   1    False        6           1   \n",
      "2          3  01-01-2011       1   0     1   2    False        6           1   \n",
      "3          4  01-01-2011       1   0     1   3    False        6           1   \n",
      "4          5  01-01-2011       1   0     1   4    False        6           1   \n",
      "..       ...         ...     ...  ..   ...  ..      ...      ...         ...   \n",
      "605      606  28-01-2011       1   0     1  11    False        5           3   \n",
      "606      607  28-01-2011       1   0     1  12    False        5           3   \n",
      "607      608  28-01-2011       1   0     1  13    False        5           3   \n",
      "608      609  28-01-2011       1   0     1  14    False        5           3   \n",
      "609      610  28-01-2011       1   0     1  15    False        5           2   \n",
      "\n",
      "     temp  \n",
      "0    0.24  \n",
      "1    0.22  \n",
      "2    0.22  \n",
      "3    0.24  \n",
      "4    0.24  \n",
      "..    ...  \n",
      "605  0.18  \n",
      "606  0.18  \n",
      "607  0.18  \n",
      "608  0.22  \n",
      "609  0.20  \n",
      "\n",
      "[610 rows x 10 columns]\n"
     ]
    }
   ],
   "source": [
    "print(dataset1)"
   ]
  },
  {
   "cell_type": "code",
   "execution_count": 8,
   "id": "af8374a4-e1a0-4e8e-942f-3f5c8623889a",
   "metadata": {},
   "outputs": [
    {
     "data": {
      "text/html": [
       "<div>\n",
       "<style scoped>\n",
       "    .dataframe tbody tr th:only-of-type {\n",
       "        vertical-align: middle;\n",
       "    }\n",
       "\n",
       "    .dataframe tbody tr th {\n",
       "        vertical-align: top;\n",
       "    }\n",
       "\n",
       "    .dataframe thead th {\n",
       "        text-align: right;\n",
       "    }\n",
       "</style>\n",
       "<table border=\"1\" class=\"dataframe\">\n",
       "  <thead>\n",
       "    <tr style=\"text-align: right;\">\n",
       "      <th></th>\n",
       "      <th>instant</th>\n",
       "      <th>dteday</th>\n",
       "      <th>season</th>\n",
       "      <th>yr</th>\n",
       "      <th>mnth</th>\n",
       "      <th>hr</th>\n",
       "      <th>holiday</th>\n",
       "      <th>weekday</th>\n",
       "      <th>weathersit</th>\n",
       "      <th>temp</th>\n",
       "    </tr>\n",
       "  </thead>\n",
       "  <tbody>\n",
       "    <tr>\n",
       "      <th>0</th>\n",
       "      <td>1</td>\n",
       "      <td>01-01-2011</td>\n",
       "      <td>1</td>\n",
       "      <td>0</td>\n",
       "      <td>1</td>\n",
       "      <td>0</td>\n",
       "      <td>False</td>\n",
       "      <td>6</td>\n",
       "      <td>1</td>\n",
       "      <td>0.24</td>\n",
       "    </tr>\n",
       "    <tr>\n",
       "      <th>1</th>\n",
       "      <td>2</td>\n",
       "      <td>01-01-2011</td>\n",
       "      <td>1</td>\n",
       "      <td>0</td>\n",
       "      <td>1</td>\n",
       "      <td>1</td>\n",
       "      <td>False</td>\n",
       "      <td>6</td>\n",
       "      <td>1</td>\n",
       "      <td>0.22</td>\n",
       "    </tr>\n",
       "    <tr>\n",
       "      <th>2</th>\n",
       "      <td>3</td>\n",
       "      <td>01-01-2011</td>\n",
       "      <td>1</td>\n",
       "      <td>0</td>\n",
       "      <td>1</td>\n",
       "      <td>2</td>\n",
       "      <td>False</td>\n",
       "      <td>6</td>\n",
       "      <td>1</td>\n",
       "      <td>0.22</td>\n",
       "    </tr>\n",
       "    <tr>\n",
       "      <th>3</th>\n",
       "      <td>4</td>\n",
       "      <td>01-01-2011</td>\n",
       "      <td>1</td>\n",
       "      <td>0</td>\n",
       "      <td>1</td>\n",
       "      <td>3</td>\n",
       "      <td>False</td>\n",
       "      <td>6</td>\n",
       "      <td>1</td>\n",
       "      <td>0.24</td>\n",
       "    </tr>\n",
       "    <tr>\n",
       "      <th>4</th>\n",
       "      <td>5</td>\n",
       "      <td>01-01-2011</td>\n",
       "      <td>1</td>\n",
       "      <td>0</td>\n",
       "      <td>1</td>\n",
       "      <td>4</td>\n",
       "      <td>False</td>\n",
       "      <td>6</td>\n",
       "      <td>1</td>\n",
       "      <td>0.24</td>\n",
       "    </tr>\n",
       "  </tbody>\n",
       "</table>\n",
       "</div>"
      ],
      "text/plain": [
       "   instant      dteday  season  yr  mnth  hr  holiday  weekday  weathersit  \\\n",
       "0        1  01-01-2011       1   0     1   0    False        6           1   \n",
       "1        2  01-01-2011       1   0     1   1    False        6           1   \n",
       "2        3  01-01-2011       1   0     1   2    False        6           1   \n",
       "3        4  01-01-2011       1   0     1   3    False        6           1   \n",
       "4        5  01-01-2011       1   0     1   4    False        6           1   \n",
       "\n",
       "   temp  \n",
       "0  0.24  \n",
       "1  0.22  \n",
       "2  0.22  \n",
       "3  0.24  \n",
       "4  0.24  "
      ]
     },
     "execution_count": 8,
     "metadata": {},
     "output_type": "execute_result"
    }
   ],
   "source": [
    "dataset1.head()\n"
   ]
  },
  {
   "cell_type": "code",
   "execution_count": 10,
   "id": "6e97f5d6-2b7d-4d57-9566-b95a735651a5",
   "metadata": {},
   "outputs": [
    {
     "name": "stdout",
     "output_type": "stream",
     "text": [
      "Rows: 610\n",
      "Columns: 10\n"
     ]
    }
   ],
   "source": [
    "print(\"Rows:\", dataset1.shape[0])\n",
    "print(\"Columns:\", dataset1.shape[1])\n"
   ]
  },
  {
   "cell_type": "code",
   "execution_count": 12,
   "id": "9e8f6828-3dba-49f9-96ee-9ab4ad43c6c0",
   "metadata": {},
   "outputs": [
    {
     "data": {
      "text/plain": [
       "instant         int64\n",
       "dteday         object\n",
       "season          int64\n",
       "yr              int64\n",
       "mnth            int64\n",
       "hr              int64\n",
       "holiday          bool\n",
       "weekday         int64\n",
       "weathersit      int64\n",
       "temp          float64\n",
       "dtype: object"
      ]
     },
     "execution_count": 12,
     "metadata": {},
     "output_type": "execute_result"
    }
   ],
   "source": [
    "dataset1.dtypes\n"
   ]
  },
  {
   "cell_type": "code",
   "execution_count": 14,
   "id": "081b614a-fec3-4a40-b444-a3209be01e57",
   "metadata": {},
   "outputs": [
    {
     "name": "stdout",
     "output_type": "stream",
     "text": [
      "<class 'pandas.core.frame.DataFrame'>\n",
      "RangeIndex: 610 entries, 0 to 609\n",
      "Data columns (total 10 columns):\n",
      " #   Column      Non-Null Count  Dtype  \n",
      "---  ------      --------------  -----  \n",
      " 0   instant     610 non-null    int64  \n",
      " 1   dteday      610 non-null    object \n",
      " 2   season      610 non-null    int64  \n",
      " 3   yr          610 non-null    int64  \n",
      " 4   mnth        610 non-null    int64  \n",
      " 5   hr          610 non-null    int64  \n",
      " 6   holiday     610 non-null    bool   \n",
      " 7   weekday     610 non-null    int64  \n",
      " 8   weathersit  610 non-null    int64  \n",
      " 9   temp        610 non-null    float64\n",
      "dtypes: bool(1), float64(1), int64(7), object(1)\n",
      "memory usage: 43.6+ KB\n"
     ]
    }
   ],
   "source": [
    "dataset1.info()\n",
    "\n"
   ]
  },
  {
   "cell_type": "code",
   "execution_count": 16,
   "id": "d17744eb-8fc2-4953-b97d-bcfff9633e5f",
   "metadata": {},
   "outputs": [
    {
     "data": {
      "text/plain": [
       "instant       0\n",
       "dteday        0\n",
       "season        0\n",
       "yr            0\n",
       "mnth          0\n",
       "hr            0\n",
       "holiday       0\n",
       "weekday       0\n",
       "weathersit    0\n",
       "temp          0\n",
       "dtype: int64"
      ]
     },
     "execution_count": 16,
     "metadata": {},
     "output_type": "execute_result"
    }
   ],
   "source": [
    "dataset1.isnull().sum()\n"
   ]
  },
  {
   "cell_type": "code",
   "execution_count": 18,
   "id": "9cb79168-aab7-45af-bb59-a076964ef6cc",
   "metadata": {},
   "outputs": [],
   "source": [
    "# Fill numeric missing values with mean\n",
    "dataset1.fillna(dataset1.mean(numeric_only=True), inplace=True)\n",
    "\n",
    "# Or drop if appropriate\n",
    "# dataset1.dropna(inplace=True)\n"
   ]
  },
  {
   "cell_type": "code",
   "execution_count": 20,
   "id": "789efc24-783d-4b41-b2b5-8377ba2112fa",
   "metadata": {},
   "outputs": [],
   "source": [
    "# Example: Drop unnamed or irrelevant columns\n",
    "dataset1.drop(columns=['Unnamed: 0'], inplace=True, errors='ignore')\n"
   ]
  },
  {
   "cell_type": "code",
   "execution_count": 22,
   "id": "7406b4b6-9cd9-4905-92a7-54053edbd19f",
   "metadata": {},
   "outputs": [
    {
     "name": "stdout",
     "output_type": "stream",
     "text": [
      "instant: 610 unique values\n",
      "dteday: 28 unique values\n",
      "season: 1 unique values\n",
      "yr: 1 unique values\n",
      "mnth: 1 unique values\n",
      "hr: 24 unique values\n",
      "holiday: 2 unique values\n",
      "weekday: 7 unique values\n",
      "weathersit: 4 unique values\n",
      "temp: 23 unique values\n"
     ]
    }
   ],
   "source": [
    "for col in dataset1.columns:\n",
    "    print(f\"{col}: {dataset1[col].nunique()} unique values\")\n"
   ]
  },
  {
   "cell_type": "code",
   "execution_count": 26,
   "id": "f151f60e-d403-44e7-a2a4-0453b3cb0ad4",
   "metadata": {},
   "outputs": [
    {
     "name": "stdout",
     "output_type": "stream",
     "text": [
      "Mean:\n",
      " instant       305.500000\n",
      "season          1.000000\n",
      "yr              0.000000\n",
      "mnth            1.000000\n",
      "hr             11.795082\n",
      "holiday         0.039344\n",
      "weekday         2.977049\n",
      "weathersit      1.477049\n",
      "temp            0.196885\n",
      "dtype: float64\n",
      "\n",
      "Median:\n",
      " instant       305.5\n",
      "season          1.0\n",
      "yr              0.0\n",
      "mnth            1.0\n",
      "hr             12.0\n",
      "holiday         0.0\n",
      "weekday         3.0\n",
      "weathersit      1.0\n",
      "temp            0.2\n",
      "dtype: float64\n"
     ]
    }
   ],
   "source": [
    "print(\"Mean:\\n\", dataset1.mean(numeric_only=True))\n",
    "print(\"\\nMedian:\\n\", dataset1.median(numeric_only=True))\n"
   ]
  },
  {
   "cell_type": "code",
   "execution_count": 28,
   "id": "2a6a243e-c6c0-4cd0-8be0-06047df9294a",
   "metadata": {},
   "outputs": [],
   "source": [
    "dataset2 = pd.read_csv(\"D:\\\\digicrome_datascienceAndAI\\\\Second_Project\\\\dataset_2.xlsx - dataset_2.csv\")"
   ]
  },
  {
   "cell_type": "code",
   "execution_count": 30,
   "id": "8426157c-1c25-4607-a5ab-cc4950825294",
   "metadata": {},
   "outputs": [
    {
     "name": "stdout",
     "output_type": "stream",
     "text": [
      "     Unnamed: 0  instant   atemp   hum  windspeed  casual  registered  cnt\n",
      "0             0        1  0.2879  0.81     0.0000       3          13   16\n",
      "1             1        2  0.2727  0.80     0.0000       8          32   40\n",
      "2             2        3  0.2727  0.80     0.0000       5          27   32\n",
      "3             3        4  0.2879  0.75     0.0000       3          10   13\n",
      "4             4        5  0.2879  0.75     0.0000       0           1    1\n",
      "..          ...      ...     ...   ...        ...     ...         ...  ...\n",
      "605         605      606  0.2121  0.93     0.1045       0          30   30\n",
      "606         606      607  0.2121  0.93     0.1045       1          28   29\n",
      "607         607      608  0.2121  0.93     0.1045       0          31   31\n",
      "608         608      609  0.2727  0.80     0.0000       2          36   38\n",
      "609         609      610  0.2576  0.86     0.0000       1          40   41\n",
      "\n",
      "[610 rows x 8 columns]\n"
     ]
    }
   ],
   "source": [
    "print(dataset2)"
   ]
  },
  {
   "cell_type": "code",
   "execution_count": 32,
   "id": "ee50f6ae-13c2-4788-b458-b919febae0fb",
   "metadata": {},
   "outputs": [
    {
     "data": {
      "text/html": [
       "<div>\n",
       "<style scoped>\n",
       "    .dataframe tbody tr th:only-of-type {\n",
       "        vertical-align: middle;\n",
       "    }\n",
       "\n",
       "    .dataframe tbody tr th {\n",
       "        vertical-align: top;\n",
       "    }\n",
       "\n",
       "    .dataframe thead th {\n",
       "        text-align: right;\n",
       "    }\n",
       "</style>\n",
       "<table border=\"1\" class=\"dataframe\">\n",
       "  <thead>\n",
       "    <tr style=\"text-align: right;\">\n",
       "      <th></th>\n",
       "      <th>instant</th>\n",
       "      <th>dteday</th>\n",
       "      <th>season</th>\n",
       "      <th>yr</th>\n",
       "      <th>mnth</th>\n",
       "      <th>hr</th>\n",
       "      <th>holiday</th>\n",
       "      <th>weekday</th>\n",
       "      <th>weathersit</th>\n",
       "      <th>temp</th>\n",
       "    </tr>\n",
       "  </thead>\n",
       "  <tbody>\n",
       "    <tr>\n",
       "      <th>0</th>\n",
       "      <td>1</td>\n",
       "      <td>01-01-2011</td>\n",
       "      <td>1</td>\n",
       "      <td>0</td>\n",
       "      <td>1</td>\n",
       "      <td>0</td>\n",
       "      <td>False</td>\n",
       "      <td>6</td>\n",
       "      <td>1</td>\n",
       "      <td>0.24</td>\n",
       "    </tr>\n",
       "    <tr>\n",
       "      <th>1</th>\n",
       "      <td>2</td>\n",
       "      <td>01-01-2011</td>\n",
       "      <td>1</td>\n",
       "      <td>0</td>\n",
       "      <td>1</td>\n",
       "      <td>1</td>\n",
       "      <td>False</td>\n",
       "      <td>6</td>\n",
       "      <td>1</td>\n",
       "      <td>0.22</td>\n",
       "    </tr>\n",
       "    <tr>\n",
       "      <th>2</th>\n",
       "      <td>3</td>\n",
       "      <td>01-01-2011</td>\n",
       "      <td>1</td>\n",
       "      <td>0</td>\n",
       "      <td>1</td>\n",
       "      <td>2</td>\n",
       "      <td>False</td>\n",
       "      <td>6</td>\n",
       "      <td>1</td>\n",
       "      <td>0.22</td>\n",
       "    </tr>\n",
       "    <tr>\n",
       "      <th>3</th>\n",
       "      <td>4</td>\n",
       "      <td>01-01-2011</td>\n",
       "      <td>1</td>\n",
       "      <td>0</td>\n",
       "      <td>1</td>\n",
       "      <td>3</td>\n",
       "      <td>False</td>\n",
       "      <td>6</td>\n",
       "      <td>1</td>\n",
       "      <td>0.24</td>\n",
       "    </tr>\n",
       "    <tr>\n",
       "      <th>4</th>\n",
       "      <td>5</td>\n",
       "      <td>01-01-2011</td>\n",
       "      <td>1</td>\n",
       "      <td>0</td>\n",
       "      <td>1</td>\n",
       "      <td>4</td>\n",
       "      <td>False</td>\n",
       "      <td>6</td>\n",
       "      <td>1</td>\n",
       "      <td>0.24</td>\n",
       "    </tr>\n",
       "  </tbody>\n",
       "</table>\n",
       "</div>"
      ],
      "text/plain": [
       "   instant      dteday  season  yr  mnth  hr  holiday  weekday  weathersit  \\\n",
       "0        1  01-01-2011       1   0     1   0    False        6           1   \n",
       "1        2  01-01-2011       1   0     1   1    False        6           1   \n",
       "2        3  01-01-2011       1   0     1   2    False        6           1   \n",
       "3        4  01-01-2011       1   0     1   3    False        6           1   \n",
       "4        5  01-01-2011       1   0     1   4    False        6           1   \n",
       "\n",
       "   temp  \n",
       "0  0.24  \n",
       "1  0.22  \n",
       "2  0.22  \n",
       "3  0.24  \n",
       "4  0.24  "
      ]
     },
     "execution_count": 32,
     "metadata": {},
     "output_type": "execute_result"
    }
   ],
   "source": [
    "dataset1.head()"
   ]
  },
  {
   "cell_type": "code",
   "execution_count": 34,
   "id": "59be094c-6c4e-4c23-a08b-cad700e21070",
   "metadata": {},
   "outputs": [
    {
     "name": "stdout",
     "output_type": "stream",
     "text": [
      "Rows: 610\n",
      "Columns: 10\n"
     ]
    }
   ],
   "source": [
    "print(\"Rows:\", dataset1.shape[0])\n",
    "print(\"Columns:\", dataset1.shape[1])\n"
   ]
  },
  {
   "cell_type": "code",
   "execution_count": 36,
   "id": "36cdc0cf-256a-4d80-a29a-e6d75980123b",
   "metadata": {},
   "outputs": [
    {
     "data": {
      "text/plain": [
       "Unnamed: 0      int64\n",
       "instant         int64\n",
       "atemp         float64\n",
       "hum           float64\n",
       "windspeed     float64\n",
       "casual          int64\n",
       "registered      int64\n",
       "cnt             int64\n",
       "dtype: object"
      ]
     },
     "execution_count": 36,
     "metadata": {},
     "output_type": "execute_result"
    }
   ],
   "source": [
    "dataset2.dtypes"
   ]
  },
  {
   "cell_type": "code",
   "execution_count": 38,
   "id": "1aae549e-56c5-444d-b9db-c41488f576e8",
   "metadata": {},
   "outputs": [
    {
     "name": "stdout",
     "output_type": "stream",
     "text": [
      "<class 'pandas.core.frame.DataFrame'>\n",
      "RangeIndex: 610 entries, 0 to 609\n",
      "Data columns (total 8 columns):\n",
      " #   Column      Non-Null Count  Dtype  \n",
      "---  ------      --------------  -----  \n",
      " 0   Unnamed: 0  610 non-null    int64  \n",
      " 1   instant     610 non-null    int64  \n",
      " 2   atemp       599 non-null    float64\n",
      " 3   hum         610 non-null    float64\n",
      " 4   windspeed   610 non-null    float64\n",
      " 5   casual      610 non-null    int64  \n",
      " 6   registered  610 non-null    int64  \n",
      " 7   cnt         610 non-null    int64  \n",
      "dtypes: float64(3), int64(5)\n",
      "memory usage: 38.3 KB\n"
     ]
    }
   ],
   "source": [
    "dataset2.info()"
   ]
  },
  {
   "cell_type": "code",
   "execution_count": 40,
   "id": "be38eb8b-808e-40fa-99e8-4815d395777b",
   "metadata": {},
   "outputs": [
    {
     "data": {
      "text/plain": [
       "Unnamed: 0     0\n",
       "instant        0\n",
       "atemp         11\n",
       "hum            0\n",
       "windspeed      0\n",
       "casual         0\n",
       "registered     0\n",
       "cnt            0\n",
       "dtype: int64"
      ]
     },
     "execution_count": 40,
     "metadata": {},
     "output_type": "execute_result"
    }
   ],
   "source": [
    "dataset2.isnull().sum()"
   ]
  },
  {
   "cell_type": "code",
   "execution_count": 44,
   "id": "3dedd745-7614-4271-a112-8a9f9cd240f5",
   "metadata": {},
   "outputs": [],
   "source": [
    "# Fill numeric missing values with mean\n",
    "dataset2.fillna(dataset2.mean(numeric_only=True), inplace=True)"
   ]
  },
  {
   "cell_type": "code",
   "execution_count": 46,
   "id": "efc7e3db-f880-4f9d-98a2-11da7475468c",
   "metadata": {},
   "outputs": [],
   "source": [
    "# Example: Drop unnamed or irrelevant columns\n",
    "dataset2.drop(columns=['Unnamed: 0'], inplace=True, errors='ignore')\n"
   ]
  },
  {
   "cell_type": "code",
   "execution_count": 48,
   "id": "b9ee5b15-498a-473b-baa4-c29a48cf3499",
   "metadata": {},
   "outputs": [
    {
     "name": "stdout",
     "output_type": "stream",
     "text": [
      "instant: 610 unique values\n",
      "atemp: 30 unique values\n",
      "hum: 61 unique values\n",
      "windspeed: 20 unique values\n",
      "casual: 32 unique values\n",
      "registered: 150 unique values\n",
      "cnt: 165 unique values\n"
     ]
    }
   ],
   "source": [
    "for col in dataset2.columns:\n",
    "    print(f\"{col}: {dataset2[col].nunique()} unique values\")"
   ]
  },
  {
   "cell_type": "code",
   "execution_count": 50,
   "id": "02cd8d40-ff7b-4da0-b9c4-e40de7b159ac",
   "metadata": {},
   "outputs": [
    {
     "name": "stdout",
     "output_type": "stream",
     "text": [
      "Mean:\n",
      " instant       305.500000\n",
      "atemp           0.199935\n",
      "hum             0.562475\n",
      "windspeed       0.204851\n",
      "casual          4.501639\n",
      "registered     51.068852\n",
      "cnt            55.570492\n",
      "dtype: float64\n",
      "\n",
      "Median:\n",
      " instant       305.500\n",
      "atemp           0.197\n",
      "hum             0.520\n",
      "windspeed       0.194\n",
      "casual          2.000\n",
      "registered     43.000\n",
      "cnt            47.000\n",
      "dtype: float64\n"
     ]
    }
   ],
   "source": [
    "print(\"Mean:\\n\", dataset2.mean(numeric_only=True))\n",
    "print(\"\\nMedian:\\n\", dataset2.median(numeric_only=True))"
   ]
  },
  {
   "cell_type": "code",
   "execution_count": 56,
   "id": "d024ca7e-4f0e-42e4-80f0-43b0cae7fb38",
   "metadata": {},
   "outputs": [],
   "source": [
    "import pandas as pd\n"
   ]
  },
  {
   "cell_type": "code",
   "execution_count": 58,
   "id": "81429edf-de11-4036-a952-9637d56ac9d0",
   "metadata": {},
   "outputs": [],
   "source": [
    "dataset1 = pd.read_csv('D:\\\\digicrome_datascienceAndAI\\\\Second_Project\\\\dataset_1 - dataset_1.csv')\n",
    "dataset2 = pd.read_csv('D:\\\\digicrome_datascienceAndAI\\\\Second_Project\\\\dataset_2.xlsx - dataset_2.csv')\n"
   ]
  },
  {
   "cell_type": "code",
   "execution_count": 64,
   "id": "656f05e6-188c-418d-a01f-5a0348f7e825",
   "metadata": {},
   "outputs": [],
   "source": [
    "new_data = pd.merge(dataset1, dataset2, on='instant', how='inner')\n"
   ]
  },
  {
   "cell_type": "code",
   "execution_count": 66,
   "id": "0d362442-678e-49bb-826d-1b0deb1adfa2",
   "metadata": {},
   "outputs": [
    {
     "name": "stdout",
     "output_type": "stream",
     "text": [
      "     instant      dteday  season  yr  mnth  hr  holiday  weekday  weathersit  \\\n",
      "0          1  01-01-2011       1   0     1   0    False        6           1   \n",
      "1          2  01-01-2011       1   0     1   1    False        6           1   \n",
      "2          3  01-01-2011       1   0     1   2    False        6           1   \n",
      "3          4  01-01-2011       1   0     1   3    False        6           1   \n",
      "4          5  01-01-2011       1   0     1   4    False        6           1   \n",
      "..       ...         ...     ...  ..   ...  ..      ...      ...         ...   \n",
      "605      606  28-01-2011       1   0     1  11    False        5           3   \n",
      "606      607  28-01-2011       1   0     1  12    False        5           3   \n",
      "607      608  28-01-2011       1   0     1  13    False        5           3   \n",
      "608      609  28-01-2011       1   0     1  14    False        5           3   \n",
      "609      610  28-01-2011       1   0     1  15    False        5           2   \n",
      "\n",
      "     temp  Unnamed: 0   atemp   hum  windspeed  casual  registered  cnt  \n",
      "0    0.24           0  0.2879  0.81     0.0000       3          13   16  \n",
      "1    0.22           1  0.2727  0.80     0.0000       8          32   40  \n",
      "2    0.22           2  0.2727  0.80     0.0000       5          27   32  \n",
      "3    0.24           3  0.2879  0.75     0.0000       3          10   13  \n",
      "4    0.24           4  0.2879  0.75     0.0000       0           1    1  \n",
      "..    ...         ...     ...   ...        ...     ...         ...  ...  \n",
      "605  0.18         605  0.2121  0.93     0.1045       0          30   30  \n",
      "606  0.18         606  0.2121  0.93     0.1045       1          28   29  \n",
      "607  0.18         607  0.2121  0.93     0.1045       0          31   31  \n",
      "608  0.22         608  0.2727  0.80     0.0000       2          36   38  \n",
      "609  0.20         609  0.2576  0.86     0.0000       1          40   41  \n",
      "\n",
      "[610 rows x 17 columns]\n"
     ]
    }
   ],
   "source": [
    "print(new_data)"
   ]
  },
  {
   "cell_type": "code",
   "execution_count": 70,
   "id": "c8fb7f85-c86c-4d95-bd5c-a743478913da",
   "metadata": {},
   "outputs": [],
   "source": [
    "new_data.to_csv('D:\\\\digicrome_datascienceAndAI\\\\Second_Project\\\\new_data - new_data.csv', index=False)\n"
   ]
  },
  {
   "cell_type": "code",
   "execution_count": 72,
   "id": "6dfe409f-9365-4607-bbda-b111e1890eee",
   "metadata": {},
   "outputs": [
    {
     "data": {
      "text/html": [
       "<div>\n",
       "<style scoped>\n",
       "    .dataframe tbody tr th:only-of-type {\n",
       "        vertical-align: middle;\n",
       "    }\n",
       "\n",
       "    .dataframe tbody tr th {\n",
       "        vertical-align: top;\n",
       "    }\n",
       "\n",
       "    .dataframe thead th {\n",
       "        text-align: right;\n",
       "    }\n",
       "</style>\n",
       "<table border=\"1\" class=\"dataframe\">\n",
       "  <thead>\n",
       "    <tr style=\"text-align: right;\">\n",
       "      <th></th>\n",
       "      <th>instant</th>\n",
       "      <th>dteday</th>\n",
       "      <th>season</th>\n",
       "      <th>yr</th>\n",
       "      <th>mnth</th>\n",
       "      <th>hr</th>\n",
       "      <th>holiday</th>\n",
       "      <th>weekday</th>\n",
       "      <th>weathersit</th>\n",
       "      <th>temp</th>\n",
       "      <th>Unnamed: 0</th>\n",
       "      <th>atemp</th>\n",
       "      <th>hum</th>\n",
       "      <th>windspeed</th>\n",
       "      <th>casual</th>\n",
       "      <th>registered</th>\n",
       "      <th>cnt</th>\n",
       "    </tr>\n",
       "  </thead>\n",
       "  <tbody>\n",
       "    <tr>\n",
       "      <th>0</th>\n",
       "      <td>1</td>\n",
       "      <td>01-01-2011</td>\n",
       "      <td>1</td>\n",
       "      <td>0</td>\n",
       "      <td>1</td>\n",
       "      <td>0</td>\n",
       "      <td>False</td>\n",
       "      <td>6</td>\n",
       "      <td>1</td>\n",
       "      <td>0.24</td>\n",
       "      <td>0</td>\n",
       "      <td>0.2879</td>\n",
       "      <td>0.81</td>\n",
       "      <td>0.0</td>\n",
       "      <td>3</td>\n",
       "      <td>13</td>\n",
       "      <td>16</td>\n",
       "    </tr>\n",
       "    <tr>\n",
       "      <th>1</th>\n",
       "      <td>2</td>\n",
       "      <td>01-01-2011</td>\n",
       "      <td>1</td>\n",
       "      <td>0</td>\n",
       "      <td>1</td>\n",
       "      <td>1</td>\n",
       "      <td>False</td>\n",
       "      <td>6</td>\n",
       "      <td>1</td>\n",
       "      <td>0.22</td>\n",
       "      <td>1</td>\n",
       "      <td>0.2727</td>\n",
       "      <td>0.80</td>\n",
       "      <td>0.0</td>\n",
       "      <td>8</td>\n",
       "      <td>32</td>\n",
       "      <td>40</td>\n",
       "    </tr>\n",
       "    <tr>\n",
       "      <th>2</th>\n",
       "      <td>3</td>\n",
       "      <td>01-01-2011</td>\n",
       "      <td>1</td>\n",
       "      <td>0</td>\n",
       "      <td>1</td>\n",
       "      <td>2</td>\n",
       "      <td>False</td>\n",
       "      <td>6</td>\n",
       "      <td>1</td>\n",
       "      <td>0.22</td>\n",
       "      <td>2</td>\n",
       "      <td>0.2727</td>\n",
       "      <td>0.80</td>\n",
       "      <td>0.0</td>\n",
       "      <td>5</td>\n",
       "      <td>27</td>\n",
       "      <td>32</td>\n",
       "    </tr>\n",
       "    <tr>\n",
       "      <th>3</th>\n",
       "      <td>4</td>\n",
       "      <td>01-01-2011</td>\n",
       "      <td>1</td>\n",
       "      <td>0</td>\n",
       "      <td>1</td>\n",
       "      <td>3</td>\n",
       "      <td>False</td>\n",
       "      <td>6</td>\n",
       "      <td>1</td>\n",
       "      <td>0.24</td>\n",
       "      <td>3</td>\n",
       "      <td>0.2879</td>\n",
       "      <td>0.75</td>\n",
       "      <td>0.0</td>\n",
       "      <td>3</td>\n",
       "      <td>10</td>\n",
       "      <td>13</td>\n",
       "    </tr>\n",
       "    <tr>\n",
       "      <th>4</th>\n",
       "      <td>5</td>\n",
       "      <td>01-01-2011</td>\n",
       "      <td>1</td>\n",
       "      <td>0</td>\n",
       "      <td>1</td>\n",
       "      <td>4</td>\n",
       "      <td>False</td>\n",
       "      <td>6</td>\n",
       "      <td>1</td>\n",
       "      <td>0.24</td>\n",
       "      <td>4</td>\n",
       "      <td>0.2879</td>\n",
       "      <td>0.75</td>\n",
       "      <td>0.0</td>\n",
       "      <td>0</td>\n",
       "      <td>1</td>\n",
       "      <td>1</td>\n",
       "    </tr>\n",
       "  </tbody>\n",
       "</table>\n",
       "</div>"
      ],
      "text/plain": [
       "   instant      dteday  season  yr  mnth  hr  holiday  weekday  weathersit  \\\n",
       "0        1  01-01-2011       1   0     1   0    False        6           1   \n",
       "1        2  01-01-2011       1   0     1   1    False        6           1   \n",
       "2        3  01-01-2011       1   0     1   2    False        6           1   \n",
       "3        4  01-01-2011       1   0     1   3    False        6           1   \n",
       "4        5  01-01-2011       1   0     1   4    False        6           1   \n",
       "\n",
       "   temp  Unnamed: 0   atemp   hum  windspeed  casual  registered  cnt  \n",
       "0  0.24           0  0.2879  0.81        0.0       3          13   16  \n",
       "1  0.22           1  0.2727  0.80        0.0       8          32   40  \n",
       "2  0.22           2  0.2727  0.80        0.0       5          27   32  \n",
       "3  0.24           3  0.2879  0.75        0.0       3          10   13  \n",
       "4  0.24           4  0.2879  0.75        0.0       0           1    1  "
      ]
     },
     "execution_count": 72,
     "metadata": {},
     "output_type": "execute_result"
    }
   ],
   "source": [
    "new_data.head()\n"
   ]
  },
  {
   "cell_type": "code",
   "execution_count": 75,
   "id": "3a2229e0-c025-4678-a9fc-7acb2caf5f2f",
   "metadata": {},
   "outputs": [],
   "source": [
    "import pandas as pd\n",
    "import matplotlib.pyplot as plt\n",
    "import seaborn as sns\n"
   ]
  },
  {
   "cell_type": "code",
   "execution_count": 77,
   "id": "0f5b9c0e-3ef2-4324-8b13-1532b4610f37",
   "metadata": {},
   "outputs": [
    {
     "data": {
      "image/png": "[encoded data removed]",
      "text/plain": [
       "<Figure size 1200x800 with 9 Axes>"
      ]
     },
     "metadata": {},
     "output_type": "display_data"
    }
   ],
   "source": [
    "dataset1.hist(bins=20, figsize=(12, 8))\n",
    "plt.suptitle(\"Dataset 1 - Histogram of Numerical Features\")\n",
    "plt.show()\n"
   ]
  },
  {
   "cell_type": "code",
   "execution_count": null,
   "id": "40c33a51-32cf-4548-b835-f40b7a283965",
   "metadata": {},
   "outputs": [],
   "source": []
  }
 ],
 "metadata": {
  "kernelspec": {
   "display_name": "Python [conda env:base] *",
   "language": "python",
   "name": "conda-base-py"
  },
  "language_info": {
   "codemirror_mode": {
    "name": "ipython",
    "version": 3
   },
   "file_extension": ".py",
   "mimetype": "text/x-python",
   "name": "python",
   "nbconvert_exporter": "python",
   "pygments_lexer": "ipython3",
   "version": "3.12.4"
  }
 },
 "nbformat": 4,
 "nbformat_minor": 5
}
